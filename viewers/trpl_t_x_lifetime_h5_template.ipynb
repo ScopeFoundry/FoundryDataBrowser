{
 "cells": [
  {
   "cell_type": "markdown",
   "metadata": {},
   "source": [
    "# TRPL t_x lifetime H5 "
   ]
  },
  {
   "cell_type": "markdown",
   "metadata": {},
   "source": [
    "# Parameters"
   ]
  },
  {
   "cell_type": "code",
   "execution_count": null,
   "metadata": {
    "collapsed": true
   },
   "outputs": [],
   "source": [
    "settings = dict(\n",
    "    filename = \"data/180611_143555_Picoharp_MCL_2DSlowScan.h5\",\n",
    "    kk_start = 0,\n",
    "    kk_stop = 100,\n",
    "    bg_sub = True,\n",
    "    e_exp = 1.0,\n",
    "    spatial_blur = False,\n",
    "    blur_sigma = 1.0,\n",
    ")"
   ]
  },
  {
   "cell_type": "markdown",
   "metadata": {},
   "source": [
    "# Load Data"
   ]
  },
  {
   "cell_type": "code",
   "execution_count": null,
   "metadata": {
    "collapsed": true
   },
   "outputs": [],
   "source": [
    "import numpy as np"
   ]
  },
  {
   "cell_type": "code",
   "execution_count": null,
   "metadata": {
    "collapsed": true
   },
   "outputs": [],
   "source": [
    "class AttrDict(dict):\n",
    "    def __init__(self, *args, **kwargs):\n",
    "        super(AttrDict, self).__init__(*args, **kwargs)\n",
    "        self.__dict__ = self"
   ]
  },
  {
   "cell_type": "code",
   "execution_count": null,
   "metadata": {
    "collapsed": true
   },
   "outputs": [],
   "source": [
    "import h5py\n",
    "h5py.enable_ipython_completer()\n",
    "D = AttrDict()\n",
    "D.settings = settings\n",
    "D.dat = h5py.File(D.settings['filename'])\n",
    "D.M = D.dat['measurement/Picoharp_MCL_2DSlowScan']\n",
    "\n",
    "D.cr0 = D.dat['hardware/picoharp/settings'].attrs['count_rate0']\n",
    "D.rep_period_s = 1.0/D.cr0\n",
    "D.time_bin_resolution = D.dat['hardware/picoharp/settings'].attrs['Resolution']*1e-12\n",
    "D.num_hist_chans = int(np.ceil(D.rep_period_s/D.time_bin_resolution))\n",
    "\n",
    "# truncate data to only show the time period associated with rep-rate of laser\n",
    "def norm_2d(X):\n",
    "    return X / np.reshape(np.max(X, 2), X.shape[:-1] + (1,))\n",
    "\n",
    "D.time_trace_map = norm_2d(np.array(D.M['time_trace_map'][0,:,:,:]))\n",
    "D.integrated_count_map = D.time_trace_map.sum(axis=2)\n",
    "D.time_array = np.array(D.M['time_array'])\n",
    "\n",
    "D.hyperspec_data = D.time_trace_map[:,:,0:D.num_hist_chans]\n",
    "#display_image = integrated_count_map\n",
    "D.spec_x_array = D.time_array[0:D.num_hist_chans]\n",
    "\n",
    "\n",
    "D.imshow_extent = np.array(D.M['imshow_extent'])\n",
    "D.h_array = np.array(D.M['h_array'])\n",
    "D.v_array = np.array(D.M['v_array'])"
   ]
  },
  {
   "cell_type": "markdown",
   "metadata": {},
   "source": [
    "# Compute Lifetime Map "
   ]
  },
  {
   "cell_type": "code",
   "execution_count": null,
   "metadata": {
    "collapsed": true
   },
   "outputs": [],
   "source": [
    "def t_x_calc(time_array, time_trace_map, kk_start, kk_stop, x=1-0.36787944117, bgsub=True):\n",
    "\n",
    "    kk_bg_max = int(4*kk_start/5)\n",
    "\n",
    "    bg_slice = slice(0,kk_bg_max) #fit_config.bg_slice #slice(0,kk_bg_max/2)\n",
    "\n",
    "    if len(time_trace_map.shape) == 4: #if 4d (3d + time) data\n",
    "        Nz, Ny, Nx, Nt = time_trace_map.shape \n",
    "        bg = np.average(time_trace_map[:,:,:,bg_slice], axis=3).reshape(Nz,Ny,Nx,1)\n",
    "        T = np.array(time_trace_map[:,:,:,kk_start:kk_stop], dtype=float) # copy array\n",
    "        if bgsub:\n",
    "            T -= bg\n",
    "\n",
    "        t_x_map = time_array[  np.argmin(\n",
    "                               np.abs( np.cumsum(T, axis=3)/ \n",
    "                                          np.sum(T, axis=3).reshape(Nz, Ny, Nx,1)\n",
    "                                          - x), axis=3)]\n",
    "    else: #if 3d (2d + time) data\n",
    "        Ny, Nx, Nt = time_trace_map.shape\n",
    "        bg = np.mean(time_trace_map[:,:,bg_slice], axis=2).reshape(Ny, Nx,1)\n",
    "        \n",
    "        T = np.array(time_trace_map[:,:,kk_start:kk_stop], dtype=float) # copy array\n",
    "        if bgsub:\n",
    "            T -= bg\n",
    "\n",
    "        t_x_map =  time_array[np.argmin(\n",
    "                                np.abs(np.cumsum(T, axis=2)/\n",
    "                                                     np.sum(T, axis=2).reshape(Ny, Nx,1) \n",
    "                                                         - x ), axis=2)]\n",
    "        \n",
    "    return t_x_map, bg"
   ]
  },
  {
   "cell_type": "code",
   "execution_count": null,
   "metadata": {
    "collapsed": true
   },
   "outputs": [],
   "source": [
    "from scipy.ndimage.filters import gaussian_filter\n",
    "\n",
    "if D.settings['spatial_blur']:\n",
    "    s = D.settings['blur_sigma']\n",
    "    D.data_map = gaussian_filter(D.time_trace_map, sigma=(s,s,0))\n",
    "else:\n",
    "    D.data_map = D.time_trace_map\n",
    "\n",
    "\n",
    "D.tau_x_map, D.bg = t_x_calc(D.time_array, \n",
    "                                   D.data_map,\n",
    "                                   x = 1 - np.exp(-1*D.settings['e_exp']),\n",
    "                                   kk_start=D.settings['kk_start'], \n",
    "                                   kk_stop=D.settings['kk_stop'],\n",
    "                                   bgsub=D.settings['bg_sub'])\n",
    "\n",
    "D.time_trace_map_bgsub = D.data_map - D.bg\n"
   ]
  },
  {
   "cell_type": "markdown",
   "metadata": {},
   "source": [
    "# Intensity and Lifetime plot "
   ]
  },
  {
   "cell_type": "code",
   "execution_count": null,
   "metadata": {
    "collapsed": true
   },
   "outputs": [],
   "source": [
    "import matplotlib.pyplot as plt\n",
    "%matplotlib inline\n",
    "\n",
    "from mpl_toolkits.axes_grid1 import make_axes_locatable\n",
    "\n",
    "def colorbar(mappable, loc='right', **kwargs):\n",
    "    ax = mappable.axes\n",
    "    fig = ax.figure\n",
    "    divider = make_axes_locatable(ax)\n",
    "    cax = divider.append_axes(loc, size=\"5%\", pad=0.05)\n",
    "    return fig.colorbar(mappable, cax=cax, **kwargs)"
   ]
  },
  {
   "cell_type": "code",
   "execution_count": null,
   "metadata": {
    "collapsed": true
   },
   "outputs": [],
   "source": [
    "plt.figure()\n",
    "\n",
    "S = D.M['settings']\n",
    "\n",
    "ax = plt.subplot(121)\n",
    "im = plt.imshow(D.time_trace_map_bgsub.sum(axis=2), origin='lower', \n",
    "           extent=D.imshow_extent, cmap=plt.cm.YlOrBr_r)\n",
    "colorbar(im, label='Total Counts')\n",
    "#plt.colorbar(label='Total Counts')\n",
    "ax.set_xlabel(S.attrs['h_axis'] +\" (um)\")\n",
    "ax.set_ylabel(S.attrs['v_axis'] +\" (um)\")\n",
    "\n",
    "ax = plt.subplot(122)\n",
    "im = plt.imshow(D.tau_x_map, origin='lower', extent=D.imshow_extent)\n",
    "#plt.colorbar(label='Lifetime (ns)')\n",
    "colorbar(im, label='Lifetime (ns)')\n",
    "ax.set_xlabel(S.attrs['h_axis'] +\" (um)\")\n",
    "ax.set_ylabel(S.attrs['v_axis'] +\" (um)\")\n",
    "\n",
    "\n",
    "plt.tight_layout()"
   ]
  },
  {
   "cell_type": "markdown",
   "metadata": {},
   "source": [
    "# Time trace plot"
   ]
  },
  {
   "cell_type": "code",
   "execution_count": null,
   "metadata": {
    "collapsed": true
   },
   "outputs": [],
   "source": [
    "plt.figure()\n",
    "\n",
    "img_ax = plt.subplot(221)\n",
    "im = img_ax.imshow(D.time_trace_map_bgsub.sum(axis=2), origin='lower', \n",
    "           extent=D.imshow_extent, cmap=plt.cm.YlOrBr_r)\n",
    "colorbar(im, label='Total Counts')\n",
    "img_ax.set_xlabel(S.attrs['h_axis'] +\" (um)\")\n",
    "img_ax.set_ylabel(S.attrs['v_axis'] +\" (um)\")\n",
    "\n",
    "tau_img_ax = plt.subplot(222)\n",
    "im = tau_img_ax.imshow(D.tau_x_map, origin='lower', extent=D.imshow_extent)\n",
    "#plt.colorbar(label='Lifetime (ns)')\n",
    "colorbar(im, label='Lifetime (ns)')\n",
    "tau_img_ax.set_xlabel(S.attrs['h_axis'] +\" (um)\")\n",
    "tau_img_ax.set_ylabel(S.attrs['v_axis'] +\" (um)\")\n",
    "\n",
    "\n",
    "time_ax = plt.subplot(212)\n",
    "time_ax.set_xlabel('Time (ns)')\n",
    "time_ax.set_ylabel('Counts')\n",
    "\n",
    "for n,(j,i) in enumerate(D.settings['test_points']):\n",
    "    x = D.h_array[i]\n",
    "    y = D.v_array[j]\n",
    "    for ax in img_ax, tau_img_ax:\n",
    "        ax.plot( x, y, 'x', color=\"C{}\".format(n))\n",
    "\n",
    "    time_ax.semilogy(D.time_array, D.time_trace_map_bgsub[j,i,:])\n",
    "    \n",
    "plt.tight_layout()"
   ]
  },
  {
   "cell_type": "code",
   "execution_count": null,
   "metadata": {
    "collapsed": true
   },
   "outputs": [],
   "source": [
    "#roi"
   ]
  },
  {
   "cell_type": "code",
   "execution_count": null,
   "metadata": {
    "collapsed": true
   },
   "outputs": [],
   "source": [
    "#full"
   ]
  },
  {
   "cell_type": "markdown",
   "metadata": {},
   "source": [
    "# combined (zoomed)"
   ]
  },
  {
   "cell_type": "code",
   "execution_count": null,
   "metadata": {
    "collapsed": true
   },
   "outputs": [],
   "source": []
  }
 ],
 "metadata": {
  "kernelspec": {
   "display_name": "Python 3",
   "language": "python",
   "name": "python3"
  },
  "language_info": {
   "codemirror_mode": {
    "name": "ipython",
    "version": 3
   },
   "file_extension": ".py",
   "mimetype": "text/x-python",
   "name": "python",
   "nbconvert_exporter": "python",
   "pygments_lexer": "ipython3",
   "version": "3.6.0"
  }
 },
 "nbformat": 4,
 "nbformat_minor": 2
}
