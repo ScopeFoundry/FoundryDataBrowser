{
 "cells": [
  {
   "cell_type": "code",
   "execution_count": 1,
   "metadata": {
    "collapsed": false
   },
   "outputs": [],
   "source": [
    "%matplotlib inline\n",
    "\n",
    "import numpy as np\n",
    "from matplotlib import pyplot as plt\n",
    "from matplotlib.ticker import MultipleLocator\n",
    "from ipywidgets import widgets, interact\n",
    "\n",
    "import UsefulUtils as uu\n",
    "uu.init_notebook(dpi=120, fontsize=10)\n",
    "\n",
    "from UsefulUtils import Bunch\n",
    "import ScopeFoundry as sf\n",
    "\n",
    "from PicoharpPTU import PicoHarpPTU\n",
    "from picoharpdata import PicoHarpData\n",
    "\n",
    "import glob"
   ]
  },
  {
   "cell_type": "code",
   "execution_count": 2,
   "metadata": {
    "collapsed": true
   },
   "outputs": [],
   "source": [
    "def make_histogram(filename, binCount, USE_PTU=False):\n",
    "    #Use Ed's software to load the file\n",
    "    if USE_PTU:\n",
    "        PHD = PicoHarpPTU(filename, True)\n",
    "    else:\n",
    "        PHD = PicoHarpData(filename, True)\n",
    "\n",
    "    # Find all of the record indices of channel 0 events.  These mark the laser sync signal.\n",
    "    print 'Finding channel 0 events'\n",
    "    c0events = np.where(PHD.t2_channels == 0)[0]\n",
    "\n",
    "    #Compute the time differences between the channel 0 events.  Should be a regular interval.\n",
    "    print 'Calculating time difference between channel 1 events'\n",
    "    c0diffs = PHD.t2_times[c0events[1:]] - PHD.t2_times[c0events[:-1]]\n",
    "\n",
    "    #Construct an empty histogram in which to bin the events.\n",
    "    timeSpan = np.average(c0diffs)\n",
    "    hist,bins = np.histogram(np.empty(0, np.int64), bins=binCount, range=[ 0, timeSpan ] )\n",
    "\n",
    "    #For each channel 0 event, histogram the number of channel 1 events with respect to the delay after\n",
    "    #the channel 0 event.\n",
    "    for start,stop in np.nditer([c0events[:-1],c0events[1:]]):\n",
    "        # Get the events for this excitation pulse\n",
    "        c1events = np.where(PHD.t2_channels[start:stop] == 1)[0] + start\n",
    "\n",
    "        # Histogram the times of the fluorescence events with respect to the excitation pulse\n",
    "        hist = hist + (\n",
    "          np.histogram(PHD.t2_times[c1events]-PHD.t2_times[start], bins=binCount, range=(0, timeSpan) ) \n",
    "          )[0]\n",
    "    \n",
    "    return bins[:-1]*4*10**-6, hist\n"
   ]
  },
  {
   "cell_type": "code",
   "execution_count": 3,
   "metadata": {
    "collapsed": false
   },
   "outputs": [],
   "source": [
    "background_file = \"\"\n",
    "signal_file = \"Er-enhanced-t2-100s-6mW-1.pt2\"\n",
    "\n",
    "if signal_file == \"\":\n",
    "    files = glob.glob(\"./*.pt2\")\n",
    "    files.sort()\n",
    "    signal_file = files[-1]    "
   ]
  },
  {
   "cell_type": "code",
   "execution_count": null,
   "metadata": {
    "collapsed": false,
    "scrolled": true
   },
   "outputs": [
    {
     "name": "stdout",
     "output_type": "stream",
     "text": [
      "ident:  'PicoHarp 300'\n",
      "format_version: '2.0'\n",
      "V1 False V2 True\n",
      "'PicoHarp Software'\n",
      "'2.3.0.0'\n",
      "file_time:  '18/10/17 16:57:47'\n",
      "comment : 'T2 Mode'\n",
      "binaryfile_header:  (0, 32, 1, 1, 0, 2, 0, 7, 0, 100000, 100, 0, 1, 1, 0, 12000, 0, 100)\n",
      "number_of_curves 0\n",
      "number_of_boards 1\n",
      "array([0, 1, 2, 3, 4, 5, 6, 7])\n",
      "array([ True,  True,  True,  True,  True,  True,  True,  True], dtype=bool)\n",
      "board 0\n",
      "board 0 resolution 0.512000024319\n",
      "T2 records read 23601396\n",
      "T2 records convert to numpy\n",
      "{'V1': False,\n",
      " 'V2': True,\n",
      " 'active_curve': 0,\n",
      " 'bits_per_histo_bin': 32,\n",
      " 'boards': [PicoHarpBoard{'RtChan3_InputEdge': 0, 'RtChan2_CFDZeroCross': 0, 'sync_divider': 1, 'RtChan4_InputEdge': 0, 'RtChan4_CFDPresent': 0, 'RtChan4_InputLevel': 0, 'RtChan2_InputType': 0, 'cfd_level_1': 61, 'RtChan1_CFDLevel': 0, 'cfd_level_0': 91, 'RtChan1_CFDZeroCross': 0, 'RtChan4_CFDLevel': 0, 'RtChan3_CFDLevel': 0, 'cfd_zero_cross_0': 0, 'cfd_zero_cross_1': 0, 'RtChan2_InputEdge': 0, 'RtChan1_CFDPresent': 0, 'RtChan3_CFDPresent': 0, 'RtChan4_InputType': 0, 'RtChan3_InputLevel': 0, 'RtChan4_CFDZeroCross': 0, 'RouterEnabled': 1, 'hardware_ident': 'PicoHarp 300', 'RtChan3_CFDZeroCross': 0, 'RtChan1_InputType': 0, 'hardware_serial': 1005533, 'hardware_version': '2.0\\x00\\x00\\x00_', 'RtChan2_CFDPresent': 0, 'RtChan1_InputLevel': 0, 'RtChan3_InputType': 0, 'RtChan2_InputLevel': 0, 'RtChan1_InputEdge': 0, 'resolution': 0.5120000243186951, 'RtChan2_CFDLevel': 0}],\n",
      " 'comment': 'T2 Mode',\n",
      " 'creator_name': 'PicoHarp Software',\n",
      " 'creator_version': '2.3.0.0',\n",
      " 'disp_count_axis_from': 0,\n",
      " 'disp_count_axis_to': 100,\n",
      " 'disp_curve_map_to': array([0, 1, 2, 3, 4, 5, 6, 7]),\n",
      " 'disp_curve_show': array([ True,  True,  True,  True,  True,  True,  True,  True], dtype=bool),\n",
      " 'disp_lin_log': 1,\n",
      " 'disp_time_axis_from': 0,\n",
      " 'disp_time_axis_to': 12000,\n",
      " 'ext_devices': 0,\n",
      " 'file_time': '18/10/17 16:57:47',\n",
      " 'filename': 'Er-enhanced-t2-100s-6mW-1.pt2',\n",
      " 'format_version': '2.0',\n",
      " 'ident': 'PicoHarp 300',\n",
      " 'img_hdr_size': 0,\n",
      " 'inp_rate0': 100000,\n",
      " 'inp_rate1': 134792,\n",
      " 'measurement_mode': 2,\n",
      " 'num_records': 23601396,\n",
      " 'number_of_boards': 1,\n",
      " 'number_of_curves': 0,\n",
      " 'offset': 0,\n",
      " 'param_end': [0.0, 0.0, 0.0],\n",
      " 'param_start': [0.0, 0.0, 0.0],\n",
      " 'param_step': [0.0, 0.0, 0.0],\n",
      " 'phdfile': <open file 'Er-enhanced-t2-100s-6mW-1.pt2', mode 'rb' at 0x00000000074CDC90>,\n",
      " 'range_no': 7,\n",
      " 'repeat_mode': 0,\n",
      " 'repeat_time': 0,\n",
      " 'repeat_wait_time': 0,\n",
      " 'repeats_per_curve': 1,\n",
      " 'restart': 1,\n",
      " 'routing_channels': 1,\n",
      " 'script_name': 'TTTR Mode\\x00e Mode',\n",
      " 'stop_after': 100000,\n",
      " 'stop_at': 100,\n",
      " 'stop_on_ovf': 0,\n",
      " 'stop_reason': 0,\n",
      " 'stop_reason_name': 'timeover',\n",
      " 'sub_mode': 0,\n",
      " 't2_channels': array([1, 0, 0, ..., 1, 0, 1], dtype=uint32),\n",
      " 't2_event_channels': array([1, 0, 0, ..., 1, 0, 1], dtype=uint32),\n",
      " 't2_event_times': array([       2387279,        2477441,        4977302, ..., 24999098896430,\n",
      "       24999099426935, 24999100605559], dtype=int64),\n",
      " 't2_overflow_index': array([     195,      412,      632, ..., 23600846, 23601035, 23601231], dtype=int64),\n",
      " 't2_overflow_mask': array([False, False, False, ..., False, False, False], dtype=bool),\n",
      " 't2_rawdata': array([270822735,   2477441,   4977302, ..., 442552366, 174647415,\n",
      "       444261495], dtype=uint32),\n",
      " 't2_special_record_mask': array([False, False, False, ..., False, False, False], dtype=bool),\n",
      " 't2_standard_record_mask': array([ True,  True,  True, ...,  True,  True,  True], dtype=bool),\n",
      " 't2_times': array([       2387279,        2477441,        4977302, ..., 24999098896430,\n",
      "       24999099426935, 24999100605559], dtype=int64),\n",
      " 't2_times_c0': array([       2477441,        4977302,        7477076, ..., 24999094427190,\n",
      "       24999096927099, 24999099426935], dtype=int64),\n",
      " 't2_times_c1': array([       2387279,        5651707,        6597736, ..., 24999097729883,\n",
      "       24999098896430, 24999100605559], dtype=int64),\n",
      " 't2_times_wrapped': array([  2387279,   2477441,   4977302, ..., 174116910, 174647415,\n",
      "       175826039], dtype=int64),\n",
      " 'tacq': 100000}\n",
      "Finding channel 0 events\n",
      "Calculating time difference between channel 1 events"
     ]
    }
   ],
   "source": [
    "\n",
    "signal = Bunch()\n",
    "bins, ints = make_histogram(signal_file, 1000)\n",
    "signal.time= bins\n",
    "signal.intensity = ints\n",
    "\n",
    "bg = Bunch()\n",
    "if background_file == \"\":\n",
    "    bg.time = signal.time.copy()\n",
    "    bg.intensity = np.zeros(signal.intensity.shape)\n",
    "else:\n",
    "    bins, ints = make_histogram(background_file, 1000)\n",
    "    bg.time = bins\n",
    "    bg.intensity = ints\n"
   ]
  },
  {
   "cell_type": "code",
   "execution_count": 16,
   "metadata": {
    "collapsed": false
   },
   "outputs": [
    {
     "data": {
      "text/plain": [
       "[<matplotlib.lines.Line2D at 0x8145eb8>]"
      ]
     },
     "execution_count": 16,
     "metadata": {},
     "output_type": "execute_result"
    },
    {
     "data": {
      "image/png": "[encoded data removed]",
      "text/plain": [
       "<matplotlib.figure.Figure at 0x81450f0>"
      ]
     },
     "metadata": {},
     "output_type": "display_data"
    }
   ],
   "source": [
    "plt.semilogy(bg.time, bg.intensity)\n",
    "plt.semilogy(signal.time, signal.intensity)"
   ]
  },
  {
   "cell_type": "code",
   "execution_count": 17,
   "metadata": {
    "collapsed": false
   },
   "outputs": [
    {
     "data": {
      "text/plain": [
       "[<matplotlib.lines.Line2D at 0x84f19e8>]"
      ]
     },
     "execution_count": 17,
     "metadata": {},
     "output_type": "execute_result"
    },
    {
     "data": {
      "image/png": "[encoded data removed]",
      "text/plain": [
       "<matplotlib.figure.Figure at 0x80ee2e8>"
      ]
     },
     "metadata": {},
     "output_type": "display_data"
    }
   ],
   "source": [
    "plt.semilogy(signal.time, signal.intensity - bg.intensity)"
   ]
  },
  {
   "cell_type": "code",
   "execution_count": null,
   "metadata": {
    "collapsed": true
   },
   "outputs": [],
   "source": []
  }
 ],
 "metadata": {
  "kernelspec": {
   "display_name": "Python 2",
   "language": "python",
   "name": "python2"
  },
  "language_info": {
   "codemirror_mode": {
    "name": "ipython",
    "version": 2
   },
   "file_extension": ".py",
   "mimetype": "text/x-python",
   "name": "python",
   "nbconvert_exporter": "python",
   "pygments_lexer": "ipython2",
   "version": "2.7.13"
  }
 },
 "nbformat": 4,
 "nbformat_minor": 0
}
